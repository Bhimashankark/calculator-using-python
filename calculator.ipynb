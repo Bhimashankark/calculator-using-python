{
 "cells": [
  {
   "cell_type": "code",
   "execution_count": 1,
   "id": "168b4172-e53a-4bc1-80ee-7104bcaf1d08",
   "metadata": {},
   "outputs": [
    {
     "name": "stdin",
     "output_type": "stream",
     "text": [
      "enter the first number 10\n",
      "enter the second number 5\n",
      "enter the arithematic operation is to be carried out +,-,/,*,%,// +\n"
     ]
    },
    {
     "name": "stdout",
     "output_type": "stream",
     "text": [
      "addition of two numbers is 15\n"
     ]
    }
   ],
   "source": [
    "# calculator for carrying airthematic operation\n",
    "num1=int(input(\"enter the first number\"))\n",
    "num2=int(input(\"enter the second number\"))\n",
    "operation = input(\"enter the arithematic operation is to be carried out +,-,/,*,%,//\")\n",
    "\n",
    "if operation == \"+\":\n",
    "    add = num1+num2\n",
    "    print(\"addition of two numbers is\",add)\n",
    "elif operation == \"-\":\n",
    "    sub = num1-num2\n",
    "    print(\"subtraction of two numbers is\",sub)\n",
    "elif operation == \"/\":\n",
    "    Div = num1/num2\n",
    "    print(\"Division  of two numbers is\",Div)    \n",
    "elif  operation == \"*\":\n",
    "    multi = num1*num2\n",
    "    print(\"multiplication  of two numbers is\",multi) \n",
    "elif  operation == \"%\":\n",
    "    mod = num1%num2\n",
    "    print(\"modolus  of two numbers is\",mod)\n",
    "elif operation == \"//\":\n",
    "    floor_div = num1//num2\n",
    "    print(\" floor division  of two numbers is\",floor_div)    \n",
    "else :\n",
    "    print(\"invalid operation\")\n",
    "    \n",
    "    "
   ]
  },
  {
   "cell_type": "code",
   "execution_count": null,
   "id": "fa19f9a1-df94-46a4-8b56-46e419949fee",
   "metadata": {},
   "outputs": [],
   "source": []
  },
  {
   "cell_type": "code",
   "execution_count": null,
   "id": "40181fd3-324c-49c5-9fc4-888194f13216",
   "metadata": {},
   "outputs": [],
   "source": []
  }
 ],
 "metadata": {
  "kernelspec": {
   "display_name": "Python 3 (ipykernel)",
   "language": "python",
   "name": "python3"
  },
  "language_info": {
   "codemirror_mode": {
    "name": "ipython",
    "version": 3
   },
   "file_extension": ".py",
   "mimetype": "text/x-python",
   "name": "python",
   "nbconvert_exporter": "python",
   "pygments_lexer": "ipython3",
   "version": "3.10.8"
  }
 },
 "nbformat": 4,
 "nbformat_minor": 5
}
